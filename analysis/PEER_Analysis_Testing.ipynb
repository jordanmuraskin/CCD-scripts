{
 "cells": [
  {
   "cell_type": "code",
   "execution_count": 24,
   "metadata": {
    "collapsed": false
   },
   "outputs": [
    {
     "name": "stdout",
     "output_type": "stream",
     "text": [
      "Populating the interactive namespace from numpy and matplotlib\n"
     ]
    }
   ],
   "source": [
    "from nilearn.image import threshold_img\n",
    "from nilearn.input_data import NiftiMasker\n",
    "import nilearn.image as image\n",
    "from nilearn.plotting import plot_roi\n",
    "from sklearn.svm import LinearSVR\n",
    "from sklearn.preprocessing import minmax_scale\n",
    "from sklearn.metrics import r2_score\n",
    "from scipy.stats import zscore\n",
    "import pickle\n",
    "\n",
    "\n",
    "\n",
    "%pylab inline\n",
    "\n",
    "\n",
    "def make_peer_rois(peer1,peer2,count=1000,useStandardMask=False):\n",
    "    #first loop over L and R eyes\n",
    "    ROI_maps=[]\n",
    "    \n",
    "    #first load peer1 and peer2 instead of calling filenames\n",
    "    peer1_img=image.load_img(peer1)\n",
    "    peer2_img=image.load_img(peer2)\n",
    "    \n",
    "    for eye in ['L','R']:\n",
    "        eye_mask='/home/jmuraskin/standard/MNI152_T1_3mm_eye_mask_%s.nii.gz' % eye\n",
    "        # fit and transform the masks\n",
    "\n",
    "        peer1_Masker = NiftiMasker(eye_mask, detrend=True)\n",
    "\n",
    "        ts_peer1 = peer1_Masker.fit_transform(peer1_img)\n",
    "        peer2_Masker = NiftiMasker(eye_mask, detrend=True)\n",
    "        ts_peer2 = peer2_Masker.fit_transform(peer2_img)\n",
    "        #calculate the standard deviations and argsort for indx\n",
    "        peer1_stds=np.std(ts_peer1,axis=0)\n",
    "        \n",
    "        peer2_stds=np.std(ts_peer2,axis=0)\n",
    "       \n",
    "        if useStandardMask:\n",
    "            peer1_indx=np.nonzero(peer1_stds)\n",
    "            peer2_indx=np.nonzero(peer2_stds)\n",
    "            top_indx=np.intersect1d(peer1_indx,peer2_indx)\n",
    "        else:\n",
    "            peer1_indx=np.argsort(peer1_stds)\n",
    "            peer2_indx=np.argsort(peer2_stds)\n",
    "            #find where for both peer scans the voxel was in the top ncounts\n",
    "            top_indx=np.intersect1d(peer1_indx[-count:],peer2_indx[-count:])\n",
    "        #create ROI\n",
    "        ROI=np.zeros((ts_peer1.shape[1]))\n",
    "        ROI[top_indx]=1\n",
    "        ROI_maps.append(peer1_Masker.inverse_transform(ROI))\n",
    "#     else:\n",
    "#         ROI_maps.append('/home/jmuraskin/standard/MNI152_T1_3mm_eye_mask_L.nii.gz')\n",
    "#         ROI_maps.append('/home/jmuraskin/standard/MNI152_T1_3mm_eye_mask_R.nii.gz')\n",
    "    #combine rois from L and R eyes\n",
    "    peer_roi=image.math_img(\"img1+img2\",img1=ROI_maps[0],img2=ROI_maps[1])\n",
    "    \n",
    "    #fit roi to time series\n",
    "    masker=NiftiMasker(peer_roi,detrend=True)\n",
    "    ts_peer1=masker.fit_transform(peer1_img)\n",
    "    ts_peer2=masker.fit_transform(peer2_img)\n",
    "    \n",
    "    return peer_roi,ts_peer1,ts_peer2\n",
    " \n",
    "    \n",
    "def getHorizontalTS(tr=0):\n",
    "    hor=np.loadtxt('../PEER/lbls_peer_hor.1D',dtype=float)\n",
    "    #how many to remove\n",
    "#     tr=4\n",
    "    #make timeseries\n",
    "    ts=[]\n",
    "    if tr>0:\n",
    "        hor=hor[tr/2:]\n",
    "\n",
    "    for h in hor:\n",
    "        ts.append(h)\n",
    "        ts.append(h)\n",
    "    return ts\n",
    "\n",
    "def getVerticalTS(tr=0):\n",
    "    hor=np.loadtxt('../PEER/lbls_peer_ver.1D',dtype=float)\n",
    "    #how many to remove\n",
    "#     tr=4\n",
    "    #make timeseries\n",
    "    ts=[]\n",
    "    if tr>0:\n",
    "        hor=hor[tr/2:]\n",
    "\n",
    "    for h in hor:\n",
    "        ts.append(h)\n",
    "        ts.append(h)\n",
    "    return ts\n",
    "\n",
    "def peer_SVR_regression(peer1,peer2,ts):\n",
    "\n",
    "    y = zscore(ts,axis=0)\n",
    "    r2=[]\n",
    "    coefs=[]\n",
    "    intercepts=[]\n",
    "    predictions=[]\n",
    "    for n in range(2):\n",
    "        if n == 0:\n",
    "            X_train=ts_peer1\n",
    "            X_test= ts_peer2\n",
    "        else:\n",
    "            X_train = ts_peer2\n",
    "            X_test = ts_peer1\n",
    "\n",
    "        X=zscore(X_train,axis=0)\n",
    "        clf = LinearSVR(C=5,fit_intercept=False,tol=1e-8)\n",
    "        clf.fit(X, y) \n",
    "        preds=clf.predict(zscore(X_test,axis=0))\n",
    "        predictions.append(preds)\n",
    "        r2.append(r2_score(y,preds))\n",
    "        coefs.append(clf.coef_)\n",
    "    coef=np.mean(coefs,axis=0)\n",
    "    \n",
    "    return coef,r2,predictions"
   ]
  },
  {
   "cell_type": "code",
   "execution_count": 27,
   "metadata": {
    "collapsed": false
   },
   "outputs": [
    {
     "name": "stdout",
     "output_type": "stream",
     "text": [
      "Horizantal Regresion Peer1: 0.78 Peer2:0.82\n",
      "Vertical Regresion Peer1: 0.85 Peer2:0.85\n"
     ]
    },
    {
     "data": {
      "image/png": "[encoded data removed]",
      "text/plain": [
       "<matplotlib.figure.Figure at 0x7fc7c7698710>"
      ]
     },
     "metadata": {},
     "output_type": "display_data"
    }
   ],
   "source": [
    "h_ts=getHorizontalTS()\n",
    "v_ts=getVerticalTS()\n",
    "\n",
    "\n",
    "subject_ID='CCD017'\n",
    "\n",
    "peer1='/home/jmuraskin/Projects/CCD/CPAC-PEER-out/pipeline_CPAC-PEER/%s_data_/motion_correct_to_standard_other_resolutions/_scan_1/peer1_calc_tshift_resample_volreg_antswarp.nii.gz' % subject_ID\n",
    "peer2='/home/jmuraskin/Projects/CCD/CPAC-PEER-out/pipeline_CPAC-PEER/%s_data_/motion_correct_to_standard_other_resolutions/_scan_2/peer2_calc_tshift_resample_volreg_antswarp.nii.gz' % subject_ID\n",
    "\n",
    "\n",
    "peer_roi,ts_peer1,ts_peer2=make_peer_rois(peer1,peer2,count=1000,useStandardMask=False)\n",
    "\n",
    "#plot the created ROI\n",
    "plot_roi(peer_roi)\n",
    "\n",
    "\n",
    "\n",
    "\n",
    "#Run Horizontal Regression\n",
    "h_coef,h_r2,h_preds=peer_SVR_regression(ts_peer1,ts_peer2,h_ts)\n",
    "print 'Horizantal Regresion Peer1: %0.2f Peer2:%0.2f' % (h_r2[0],h_r2[1])\n",
    "#Run Vertical Regression\n",
    "v_coef,v_r2,v_preds=peer_SVR_regression(ts_peer1,ts_peer2,v_ts)\n",
    "print 'Vertical Regresion Peer1: %0.2f Peer2:%0.2f' % (v_r2[0],v_r2[1])"
   ]
  },
  {
   "cell_type": "code",
   "execution_count": 9,
   "metadata": {
    "collapsed": false
   },
   "outputs": [],
   "source": [
    "fbscan='/home/jmuraskin/Projects/CCD/CPAC-out/pipeline_CCD_v1/%s_data_/motion_correct_to_standard_other_resolutions/_scan_feedback_1/_apply_isoxfm_3.0/fb_1_calc_tshift_resample_volreg_antswarp.nii.gz' % subject_ID\n",
    "masker=NiftiMasker(peer_roi,detrend=True)\n",
    "fbTS=zscore(masker.fit_transform(fbscan),axis=0)\n",
    "\n"
   ]
  },
  {
   "cell_type": "code",
   "execution_count": 10,
   "metadata": {
    "collapsed": false
   },
   "outputs": [],
   "source": [
    "h_ts=minmax_scale(np.dot(fbTS,h_coef),feature_range=(min(h_ts),max(h_ts)))\n",
    "v_ts=minmax_scale(np.dot(fbTS,v_coef),feature_range=(min(v_ts),max(v_ts)))"
   ]
  },
  {
   "cell_type": "code",
   "execution_count": 11,
   "metadata": {
    "collapsed": false
   },
   "outputs": [
    {
     "data": {
      "image/png": "[encoded data removed]",
      "text/plain": [
       "<matplotlib.figure.Figure at 0x7fc83930e250>"
      ]
     },
     "metadata": {},
     "output_type": "display_data"
    },
    {
     "ename": "KeyboardInterrupt",
     "evalue": "",
     "output_type": "error",
     "traceback": [
      "\u001b[0;31m---------------------------------------------------------------------------\u001b[0m",
      "\u001b[0;31mKeyboardInterrupt\u001b[0m                         Traceback (most recent call last)",
      "\u001b[0;32m<ipython-input-11-9b4b6ec75a0f>\u001b[0m in \u001b[0;36m<module>\u001b[0;34m()\u001b[0m\n\u001b[1;32m      8\u001b[0m     \u001b[0mdisplay\u001b[0m\u001b[0;34m.\u001b[0m\u001b[0mclear_output\u001b[0m\u001b[0;34m(\u001b[0m\u001b[0mwait\u001b[0m\u001b[0;34m=\u001b[0m\u001b[0mTrue\u001b[0m\u001b[0;34m)\u001b[0m\u001b[0;34m\u001b[0m\u001b[0m\n\u001b[1;32m      9\u001b[0m     \u001b[0mdisplay\u001b[0m\u001b[0;34m.\u001b[0m\u001b[0mdisplay\u001b[0m\u001b[0;34m(\u001b[0m\u001b[0mplt\u001b[0m\u001b[0;34m.\u001b[0m\u001b[0mgcf\u001b[0m\u001b[0;34m(\u001b[0m\u001b[0;34m)\u001b[0m\u001b[0;34m)\u001b[0m\u001b[0;34m\u001b[0m\u001b[0m\n\u001b[0;32m---> 10\u001b[0;31m     \u001b[0mtime\u001b[0m\u001b[0;34m.\u001b[0m\u001b[0msleep\u001b[0m\u001b[0;34m(\u001b[0m\u001b[0;36m.1\u001b[0m\u001b[0;34m)\u001b[0m\u001b[0;34m\u001b[0m\u001b[0m\n\u001b[0m",
      "\u001b[0;31mKeyboardInterrupt\u001b[0m: "
     ]
    },
    {
     "data": {
      "image/png": "[encoded data removed]",
      "text/plain": [
       "<matplotlib.figure.Figure at 0x7fc83930e250>"
      ]
     },
     "metadata": {},
     "output_type": "display_data"
    }
   ],
   "source": [
    "import time\n",
    "from IPython import display\n",
    "for x,y in zip(h_ts,v_ts):\n",
    "    plt.cla()\n",
    "    plt.plot(x,y,'bx')\n",
    "    plt.xlim((min(h_ts),max(h_ts)))\n",
    "    plt.ylim((min(v_ts),max(v_ts)))\n",
    "    display.clear_output(wait=True)\n",
    "    display.display(plt.gcf())\n",
    "    time.sleep(.1)"
   ]
  },
  {
   "cell_type": "code",
   "execution_count": 19,
   "metadata": {
    "collapsed": false
   },
   "outputs": [
    {
     "data": {
      "text/plain": [
       "[<matplotlib.lines.Line2D at 0x7fc7c75da790>]"
      ]
     },
     "execution_count": 19,
     "metadata": {},
     "output_type": "execute_result"
    },
    {
     "data": {
      "image/png": "[encoded data removed]",
      "text/plain": [
       "<matplotlib.figure.Figure at 0x7fc7c765ccd0>"
      ]
     },
     "metadata": {},
     "output_type": "display_data"
    }
   ],
   "source": [
    "plt.plot(v_ts,v_preds[1],'bo')"
   ]
  },
  {
   "cell_type": "code",
   "execution_count": null,
   "metadata": {
    "collapsed": true
   },
   "outputs": [],
   "source": []
  }
 ],
 "metadata": {
  "kernelspec": {
   "display_name": "Python 2",
   "language": "python",
   "name": "python2"
  },
  "language_info": {
   "codemirror_mode": {
    "name": "ipython",
    "version": 2
   },
   "file_extension": ".py",
   "mimetype": "text/x-python",
   "name": "python",
   "nbconvert_exporter": "python",
   "pygments_lexer": "ipython2",
   "version": "2.7.12"
  }
 },
 "nbformat": 4,
 "nbformat_minor": 1
}
