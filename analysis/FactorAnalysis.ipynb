{
 "cells": [
  {
   "cell_type": "code",
   "execution_count": 135,
   "metadata": {
    "collapsed": false
   },
   "outputs": [
    {
     "name": "stdout",
     "output_type": "stream",
     "text": [
      "remote: Counting objects: 4, done.\u001b[K\n",
      "remote: Compressing objects: 100% (1/1), done.\u001b[K\n",
      "remote: Total 4 (delta 3), reused 4 (delta 3), pack-reused 0\u001b[K\n",
      "Unpacking objects: 100% (4/4), done.\n",
      "From https://github.com/jordanmuraskin/CCD-scripts\n",
      "   d4e8543..0ef8526  master     -> origin/master\n",
      "Updating d4e8543..0ef8526\n",
      "Fast-forward\n",
      " analysis/CCD_packages.py | 2 \u001b[32m+\u001b[m\u001b[31m-\u001b[m\n",
      " 1 file changed, 1 insertion(+), 1 deletion(-)\n"
     ]
    }
   ],
   "source": [
    "! git pull"
   ]
  },
  {
   "cell_type": "code",
   "execution_count": 1,
   "metadata": {
    "collapsed": false
   },
   "outputs": [
    {
     "name": "stderr",
     "output_type": "stream",
     "text": [
      "/home/jmuraskin/miniconda/envs/cpac040/lib/python2.7/site-packages/sklearn/cross_validation.py:44: DeprecationWarning:\n",
      "\n",
      "This module was deprecated in version 0.18 in favor of the model_selection module into which all the refactored classes and functions are moved. Also note that the interface of the new CV iterators are different from that of this module. This module will be removed in 0.20.\n",
      "\n"
     ]
    },
    {
     "name": "stdout",
     "output_type": "stream",
     "text": [
      "Populating the interactive namespace from numpy and matplotlib\n"
     ]
    },
    {
     "name": "stderr",
     "output_type": "stream",
     "text": [
      "/home/jmuraskin/miniconda/envs/cpac040/lib/python2.7/site-packages/sklearn/grid_search.py:43: DeprecationWarning:\n",
      "\n",
      "This module was deprecated in version 0.18 in favor of the model_selection module into which all the refactored classes and functions are moved. This module will be removed in 0.20.\n",
      "\n",
      "/home/jmuraskin/miniconda/envs/cpac040/lib/python2.7/site-packages/IPython/core/magics/pylab.py:161: UserWarning:\n",
      "\n",
      "pylab import has clobbered these variables: ['linalg']\n",
      "`%matplotlib` prevents importing * from pylab and numpy\n",
      "\n"
     ]
    }
   ],
   "source": [
    "import pandas as pd\n",
    "import numpy as np\n",
    "import matplotlib.pyplot as plt\n",
    "from scipy import linalg\n",
    "from scipy.stats import zscore\n",
    "import CCD_packages\n",
    "from sklearn.decomposition import FactorAnalysis,PCA\n",
    "from sklearn.covariance import ShrunkCovariance, LedoitWolf\n",
    "from sklearn.cross_validation import cross_val_score\n",
    "from sklearn.grid_search import GridSearchCV\n",
    "reload(CCD_packages)\n",
    "%pylab inline"
   ]
  },
  {
   "cell_type": "code",
   "execution_count": 2,
   "metadata": {
    "collapsed": false
   },
   "outputs": [
    {
     "name": "stdout",
     "output_type": "stream",
     "text": [
      "No DR .txt file found or error for subject : CCD061\n",
      "No DR .txt file found or error for subject : CCD061\n"
     ]
    }
   ],
   "source": [
    "GroupDF,motionInfo=CCD_packages.getCCDSubjectData()\n",
    "# goodsubj = CCD_packages.getSubjectList(GroupDF=GroupDF,motionThresh=1,)\n",
    "goodsubj,badsubj = CCD_packages.getSubjectList(GroupDF=GroupDF,motionThresh=1,poor_performer=14)\n",
    "\n",
    "phenoFile='/home/jmuraskin/Projects/CCD/Pheno/narsad+vt_new.csv'\n",
    "\n",
    "pheno=pd.read_csv(phenoFile)\n",
    "pheno=pheno.set_index('participant').fillna(value=0)\n",
    "\n",
    "\n",
    "phenoNames=['V1_DBDI_22','V1_CCDAIM_42','V1_CCDAIM_43','V1_CCDAIM_44','V1_CCDAIM_45','V1_CCDSIPI_46','V1_CCDSIPI_47','V1_CCDSIPI_48','V1_CCDRSQ_73','V1_CCDRSQ_74','V1_CCDRSQ_75','V1_CCDPANAS_21','V1_CCDPANAS_22','V1_CCDERQ_11','V1_CCDERQ_12']\n",
    "\n",
    "X=zscore(pheno.loc[goodsubj][phenoNames],axis=0)\n",
    "\n",
    "n_subj,n_features=X.shape"
   ]
  },
  {
   "cell_type": "code",
   "execution_count": 3,
   "metadata": {
    "collapsed": false
   },
   "outputs": [
    {
     "name": "stdout",
     "output_type": "stream",
     "text": [
      "best n_components by FactorAnalysis CV = 2\n",
      "best n_components by PCA MLE = 2\n"
     ]
    },
    {
     "data": {
      "text/plain": [
       "<matplotlib.lines.Line2D at 0x7fdd53b21b10>"
      ]
     },
     "execution_count": 3,
     "metadata": {},
     "output_type": "execute_result"
    },
    {
     "data": {
      "image/png": "[encoded data removed]",
      "text/plain": [
       "<matplotlib.figure.Figure at 0x7fdd5b2df890>"
      ]
     },
     "metadata": {},
     "output_type": "display_data"
    }
   ],
   "source": [
    "n_components = np.arange(0, n_features, 1)  # options for n_components\n",
    "\n",
    "\n",
    "def compute_scores(X):\n",
    "    fa = FactorAnalysis()\n",
    "\n",
    "    pca_scores, fa_scores = [], []\n",
    "    for n in n_components:\n",
    "#         pca.n_components = n\n",
    "        fa.n_components = n\n",
    "#         pca_scores.append(np.mean(cross_val_score(pca, X)))\n",
    "        fa_scores.append(np.mean(cross_val_score(fa, X,cv=10)))\n",
    "\n",
    "    return fa_scores\n",
    "\n",
    "\n",
    "def shrunk_cov_score(X):\n",
    "    shrinkages = np.logspace(-2, 0, 30)\n",
    "    cv = GridSearchCV(ShrunkCovariance(), {'shrinkage': shrinkages})\n",
    "    return np.mean(cross_val_score(cv.fit(X).best_estimator_, X))\n",
    "\n",
    "\n",
    "def lw_score(X):\n",
    "    return np.mean(cross_val_score(LedoitWolf(), X))\n",
    "\n",
    "\n",
    "fa_scores = compute_scores(X)\n",
    "n_components_fa = n_components[np.argmax(fa_scores)]\n",
    "\n",
    "pca = PCA(n_components='mle')\n",
    "pca.fit(X)\n",
    "n_components_pca_mle = pca.n_components_\n",
    "print(\"best n_components by FactorAnalysis CV = %d\" % n_components_fa)\n",
    "print(\"best n_components by PCA MLE = %d\" % n_components_pca_mle)\n",
    "\n",
    "\n",
    "plt.figure()\n",
    "plt.plot(n_components, fa_scores, 'r', label='FA scores')\n",
    "\n",
    "# compare with other covariance estimators\n",
    "plt.axhline(shrunk_cov_score(X), color='violet',\n",
    "            label='Shrunk Covariance MLE', linestyle='-.')\n",
    "plt.axhline(lw_score(X), color='orange',\n",
    "            label='LedoitWolf MLE' % n_components_pca_mle, linestyle='-.')\n",
    "\n",
    "# plt.xlabel('nb of components')\n",
    "# plt.ylabel('CV scores')\n",
    "# plt.legend(loc='lower right')\n",
    "# plt.title(title)\n",
    "\n"
   ]
  },
  {
   "cell_type": "code",
   "execution_count": 4,
   "metadata": {
    "collapsed": false
   },
   "outputs": [
    {
     "data": {
      "image/png": "[encoded data removed]",
      "text/plain": [
       "<matplotlib.figure.Figure at 0x7fdd5dad3c90>"
      ]
     },
     "metadata": {},
     "output_type": "display_data"
    }
   ],
   "source": [
    "fa = FactorAnalysis(n_components=2)\n",
    "fa.fit(X)\n",
    "true_components=fa.components_.T\n",
    "subjectLoadings=fa.transform(X)\n",
    "\n",
    "plt.plot(true_components)\n",
    "\n",
    "\n",
    "#randomization\n",
    "nperms=10000\n",
    "rows,columns= X.shape\n",
    "total_comps=np.zeros((nperms,columns,2))\n",
    "for n in range(nperms):\n",
    "    Xshuffle=X.copy()\n",
    "    for column in range(columns):\n",
    "        Xshuffle[:,column]=np.random.permutation(Xshuffle[:,column])\n",
    "    fa = FactorAnalysis(n_components=2)\n",
    "    fa.fit(Xshuffle)\n",
    "    components=fa.components_\n",
    "    total_comps[n,:,:]=components.T"
   ]
  },
  {
   "cell_type": "code",
   "execution_count": 5,
   "metadata": {
    "collapsed": false
   },
   "outputs": [
    {
     "name": "stderr",
     "output_type": "stream",
     "text": [
      "/home/jmuraskin/miniconda/envs/cpac040/lib/python2.7/site-packages/ipykernel/__main__.py:17: VisibleDeprecationWarning:\n",
      "\n",
      "using a non-integer number instead of an integer will result in an error in the future\n",
      "\n",
      "/home/jmuraskin/miniconda/envs/cpac040/lib/python2.7/site-packages/ipykernel/__main__.py:15: VisibleDeprecationWarning:\n",
      "\n",
      "using a non-integer number instead of an integer will result in an error in the future\n",
      "\n",
      "/home/jmuraskin/miniconda/envs/cpac040/lib/python2.7/site-packages/matplotlib/collections.py:590: FutureWarning:\n",
      "\n",
      "elementwise comparison failed; returning scalar instead, but in the future will perform elementwise comparison\n",
      "\n"
     ]
    },
    {
     "data": {
      "image/png": "[encoded data removed]",
      "text/plain": [
       "<matplotlib.figure.Figure at 0x7fdd5637f490>"
      ]
     },
     "metadata": {},
     "output_type": "display_data"
    }
   ],
   "source": [
    "import seaborn as sns\n",
    "# means=totalcomps.mean(axis=0)\n",
    "# stds=totalcomps.std(axis=0)\n",
    "plt.plot(true_components[:,0],'r')\n",
    "plt.plot(true_components[:,1],'b')\n",
    "\n",
    "pos=nperms*0.05\n",
    "\n",
    "first_comp=[]\n",
    "second_comp=[]\n",
    "\n",
    "for x in range(14):\n",
    "    for j in range(2):\n",
    "        if j:\n",
    "            limit=np.sort(total_comps[:,x,j])[pos]\n",
    "        else:\n",
    "            limit=np.sort(total_comps[:,x,j])[-1*pos]\n",
    "        \n",
    "        shift=.1\n",
    "        if j:\n",
    "            shift=-.1\n",
    "        height=true_components[x,j]+shift\n",
    "        if j:\n",
    "            if limit>true_components[x,j]:\n",
    "                second_comp.append(phenoNames[x])\n",
    "                plt.scatter(x,height)\n",
    "        else:\n",
    "            if limit<true_components[x,j]:\n",
    "                first_comp.append(phenoNames[x])\n",
    "                plt.scatter(x,height)\n",
    "            \n",
    "# plt.figure()\n",
    "# # plt.errorbar(range(14),means,yerr=stds)\n",
    "# sns.distplot(total_comps[:,7,0])"
   ]
  },
  {
   "cell_type": "code",
   "execution_count": 6,
   "metadata": {
    "collapsed": false
   },
   "outputs": [
    {
     "name": "stdout",
     "output_type": "stream",
     "text": [
      "['V1_DBDI_22', 'V1_CCDRSQ_74']\n",
      "['V1_CCDAIM_42', 'V1_CCDAIM_43', 'V1_CCDAIM_44', 'V1_CCDSIPI_46', 'V1_CCDRSQ_73', 'V1_CCDPANAS_21', 'V1_CCDERQ_11']\n"
     ]
    }
   ],
   "source": [
    "print first_comp\n",
    "print second_comp"
   ]
  },
  {
   "cell_type": "code",
   "execution_count": 7,
   "metadata": {
    "collapsed": false
   },
   "outputs": [
    {
     "name": "stderr",
     "output_type": "stream",
     "text": [
      "/home/jmuraskin/miniconda/envs/cpac040/lib/python2.7/site-packages/ipykernel/__main__.py:1: VisibleDeprecationWarning:\n",
      "\n",
      "using a non-integer number instead of an integer will result in an error in the future\n",
      "\n"
     ]
    }
   ],
   "source": [
    "limit=np.sort(total_comps[:,x,j])[-pos]"
   ]
  },
  {
   "cell_type": "code",
   "execution_count": 8,
   "metadata": {
    "collapsed": false
   },
   "outputs": [
    {
     "data": {
      "text/plain": [
       "<matplotlib.axes._subplots.AxesSubplot at 0x7fdd539efc50>"
      ]
     },
     "execution_count": 8,
     "metadata": {},
     "output_type": "execute_result"
    },
    {
     "data": {
      "image/png": "[encoded data removed]",
      "text/plain": [
       "<matplotlib.figure.Figure at 0x7fdd539fad10>"
      ]
     },
     "metadata": {},
     "output_type": "display_data"
    }
   ],
   "source": [
    "fig,ax=plt.subplots(figsize=(4,8))\n",
    "sns.heatmap(data=true_components,annot=True, fmt='.2g',square=True,yticklabels=phenoNames,xticklabels=['First Component','Second Component'])"
   ]
  },
  {
   "cell_type": "code",
   "execution_count": 10,
   "metadata": {
    "collapsed": false
   },
   "outputs": [
    {
     "data": {
      "text/plain": [
       "<matplotlib.collections.PathCollection at 0x7fdd5b2df850>"
      ]
     },
     "execution_count": 10,
     "metadata": {},
     "output_type": "execute_result"
    },
    {
     "data": {
      "image/png": "[encoded data removed]",
      "text/plain": [
       "<matplotlib.figure.Figure at 0x7fdd5121ea50>"
      ]
     },
     "metadata": {},
     "output_type": "display_data"
    },
    {
     "data": {
      "image/png": "[encoded data removed]",
      "text/plain": [
       "<matplotlib.figure.Figure at 0x7fdd5136f310>"
      ]
     },
     "metadata": {},
     "output_type": "display_data"
    }
   ],
   "source": [
    "sns.distplot(subjectLoadings[:,0])\n",
    "sns.distplot(subjectLoadings[:,1])\n",
    "\n",
    "plt.figure()\n",
    "plt.scatter(subjectLoadings[:,0],subjectLoadings[:,1])"
   ]
  },
  {
   "cell_type": "code",
   "execution_count": 9,
   "metadata": {
    "collapsed": true
   },
   "outputs": [],
   "source": [
    "df=pd.DataFrame(data=subjectLoadings,columns=['FirstComp','SecondComp'],index=goodsubj)\n",
    "df.to_csv('FA_subjectloadings_new.csv')"
   ]
  },
  {
   "cell_type": "code",
   "execution_count": 11,
   "metadata": {
    "collapsed": false
   },
   "outputs": [
    {
     "data": {
      "text/html": [
       "<div>\n",
       "<table border=\"1\" class=\"dataframe\">\n",
       "  <thead>\n",
       "    <tr style=\"text-align: right;\">\n",
       "      <th></th>\n",
       "      <th>FirstComp</th>\n",
       "      <th>SecondComp</th>\n",
       "    </tr>\n",
       "  </thead>\n",
       "  <tbody>\n",
       "    <tr>\n",
       "      <th>CCD012</th>\n",
       "      <td>0.609951</td>\n",
       "      <td>-1.623004</td>\n",
       "    </tr>\n",
       "    <tr>\n",
       "      <th>CCD014</th>\n",
       "      <td>0.985529</td>\n",
       "      <td>-0.580966</td>\n",
       "    </tr>\n",
       "    <tr>\n",
       "      <th>CCD015</th>\n",
       "      <td>-0.386983</td>\n",
       "      <td>0.325953</td>\n",
       "    </tr>\n",
       "    <tr>\n",
       "      <th>CCD016</th>\n",
       "      <td>1.758720</td>\n",
       "      <td>-1.226907</td>\n",
       "    </tr>\n",
       "    <tr>\n",
       "      <th>CCD017</th>\n",
       "      <td>-0.279444</td>\n",
       "      <td>-0.748290</td>\n",
       "    </tr>\n",
       "    <tr>\n",
       "      <th>CCD018</th>\n",
       "      <td>-0.004215</td>\n",
       "      <td>1.282598</td>\n",
       "    </tr>\n",
       "    <tr>\n",
       "      <th>CCD019</th>\n",
       "      <td>0.746426</td>\n",
       "      <td>-1.739985</td>\n",
       "    </tr>\n",
       "    <tr>\n",
       "      <th>CCD020</th>\n",
       "      <td>-0.496978</td>\n",
       "      <td>-0.857481</td>\n",
       "    </tr>\n",
       "    <tr>\n",
       "      <th>CCD021</th>\n",
       "      <td>3.518514</td>\n",
       "      <td>2.224340</td>\n",
       "    </tr>\n",
       "    <tr>\n",
       "      <th>CCD022</th>\n",
       "      <td>-0.703404</td>\n",
       "      <td>-0.631885</td>\n",
       "    </tr>\n",
       "    <tr>\n",
       "      <th>CCD023</th>\n",
       "      <td>1.079716</td>\n",
       "      <td>-0.313529</td>\n",
       "    </tr>\n",
       "    <tr>\n",
       "      <th>CCD024</th>\n",
       "      <td>0.377715</td>\n",
       "      <td>-0.901421</td>\n",
       "    </tr>\n",
       "    <tr>\n",
       "      <th>CCD025</th>\n",
       "      <td>-0.116628</td>\n",
       "      <td>-0.267977</td>\n",
       "    </tr>\n",
       "    <tr>\n",
       "      <th>CCD026</th>\n",
       "      <td>2.290329</td>\n",
       "      <td>0.759548</td>\n",
       "    </tr>\n",
       "    <tr>\n",
       "      <th>CCD027</th>\n",
       "      <td>-0.076732</td>\n",
       "      <td>-0.760443</td>\n",
       "    </tr>\n",
       "    <tr>\n",
       "      <th>CCD031</th>\n",
       "      <td>0.548187</td>\n",
       "      <td>-2.201441</td>\n",
       "    </tr>\n",
       "    <tr>\n",
       "      <th>CCD032</th>\n",
       "      <td>-0.848939</td>\n",
       "      <td>2.278077</td>\n",
       "    </tr>\n",
       "    <tr>\n",
       "      <th>CCD040</th>\n",
       "      <td>-0.857707</td>\n",
       "      <td>0.425254</td>\n",
       "    </tr>\n",
       "    <tr>\n",
       "      <th>CCD041</th>\n",
       "      <td>0.212748</td>\n",
       "      <td>0.060781</td>\n",
       "    </tr>\n",
       "    <tr>\n",
       "      <th>CCD042</th>\n",
       "      <td>1.740364</td>\n",
       "      <td>0.777382</td>\n",
       "    </tr>\n",
       "    <tr>\n",
       "      <th>CCD052</th>\n",
       "      <td>-0.959085</td>\n",
       "      <td>0.024585</td>\n",
       "    </tr>\n",
       "    <tr>\n",
       "      <th>CCD053</th>\n",
       "      <td>0.740311</td>\n",
       "      <td>0.226230</td>\n",
       "    </tr>\n",
       "    <tr>\n",
       "      <th>CCD059</th>\n",
       "      <td>-1.018069</td>\n",
       "      <td>0.717945</td>\n",
       "    </tr>\n",
       "    <tr>\n",
       "      <th>CCD060</th>\n",
       "      <td>-0.747117</td>\n",
       "      <td>-0.985609</td>\n",
       "    </tr>\n",
       "    <tr>\n",
       "      <th>CCD063</th>\n",
       "      <td>-0.829397</td>\n",
       "      <td>-0.892948</td>\n",
       "    </tr>\n",
       "    <tr>\n",
       "      <th>CCD064</th>\n",
       "      <td>-0.700301</td>\n",
       "      <td>0.049923</td>\n",
       "    </tr>\n",
       "    <tr>\n",
       "      <th>CCD067</th>\n",
       "      <td>-0.987556</td>\n",
       "      <td>-0.512099</td>\n",
       "    </tr>\n",
       "    <tr>\n",
       "      <th>CCD071</th>\n",
       "      <td>-0.738591</td>\n",
       "      <td>0.029940</td>\n",
       "    </tr>\n",
       "    <tr>\n",
       "      <th>CCD073</th>\n",
       "      <td>-0.920132</td>\n",
       "      <td>1.191113</td>\n",
       "    </tr>\n",
       "    <tr>\n",
       "      <th>CCD074</th>\n",
       "      <td>-0.391356</td>\n",
       "      <td>-0.062274</td>\n",
       "    </tr>\n",
       "    <tr>\n",
       "      <th>CCD081</th>\n",
       "      <td>-1.127418</td>\n",
       "      <td>0.083082</td>\n",
       "    </tr>\n",
       "    <tr>\n",
       "      <th>CCD082</th>\n",
       "      <td>-0.871474</td>\n",
       "      <td>1.072144</td>\n",
       "    </tr>\n",
       "    <tr>\n",
       "      <th>CCD084</th>\n",
       "      <td>0.057869</td>\n",
       "      <td>0.108361</td>\n",
       "    </tr>\n",
       "    <tr>\n",
       "      <th>CCD085</th>\n",
       "      <td>-0.139704</td>\n",
       "      <td>0.776080</td>\n",
       "    </tr>\n",
       "    <tr>\n",
       "      <th>CCD088</th>\n",
       "      <td>-0.602107</td>\n",
       "      <td>1.044604</td>\n",
       "    </tr>\n",
       "    <tr>\n",
       "      <th>CCD089</th>\n",
       "      <td>-0.625176</td>\n",
       "      <td>-0.541429</td>\n",
       "    </tr>\n",
       "    <tr>\n",
       "      <th>CCD090</th>\n",
       "      <td>-0.562464</td>\n",
       "      <td>1.029190</td>\n",
       "    </tr>\n",
       "    <tr>\n",
       "      <th>CCD091</th>\n",
       "      <td>0.473713</td>\n",
       "      <td>-0.140237</td>\n",
       "    </tr>\n",
       "    <tr>\n",
       "      <th>CCD092</th>\n",
       "      <td>0.121900</td>\n",
       "      <td>-0.180591</td>\n",
       "    </tr>\n",
       "    <tr>\n",
       "      <th>CCD094</th>\n",
       "      <td>-0.786280</td>\n",
       "      <td>0.746638</td>\n",
       "    </tr>\n",
       "    <tr>\n",
       "      <th>CCD095</th>\n",
       "      <td>0.693659</td>\n",
       "      <td>0.086175</td>\n",
       "    </tr>\n",
       "    <tr>\n",
       "      <th>CCD097</th>\n",
       "      <td>0.232927</td>\n",
       "      <td>-0.745190</td>\n",
       "    </tr>\n",
       "    <tr>\n",
       "      <th>CCD099</th>\n",
       "      <td>-0.411325</td>\n",
       "      <td>0.593765</td>\n",
       "    </tr>\n",
       "  </tbody>\n",
       "</table>\n",
       "</div>"
      ],
      "text/plain": [
       "        FirstComp  SecondComp\n",
       "CCD012   0.609951   -1.623004\n",
       "CCD014   0.985529   -0.580966\n",
       "CCD015  -0.386983    0.325953\n",
       "CCD016   1.758720   -1.226907\n",
       "CCD017  -0.279444   -0.748290\n",
       "CCD018  -0.004215    1.282598\n",
       "CCD019   0.746426   -1.739985\n",
       "CCD020  -0.496978   -0.857481\n",
       "CCD021   3.518514    2.224340\n",
       "CCD022  -0.703404   -0.631885\n",
       "CCD023   1.079716   -0.313529\n",
       "CCD024   0.377715   -0.901421\n",
       "CCD025  -0.116628   -0.267977\n",
       "CCD026   2.290329    0.759548\n",
       "CCD027  -0.076732   -0.760443\n",
       "CCD031   0.548187   -2.201441\n",
       "CCD032  -0.848939    2.278077\n",
       "CCD040  -0.857707    0.425254\n",
       "CCD041   0.212748    0.060781\n",
       "CCD042   1.740364    0.777382\n",
       "CCD052  -0.959085    0.024585\n",
       "CCD053   0.740311    0.226230\n",
       "CCD059  -1.018069    0.717945\n",
       "CCD060  -0.747117   -0.985609\n",
       "CCD063  -0.829397   -0.892948\n",
       "CCD064  -0.700301    0.049923\n",
       "CCD067  -0.987556   -0.512099\n",
       "CCD071  -0.738591    0.029940\n",
       "CCD073  -0.920132    1.191113\n",
       "CCD074  -0.391356   -0.062274\n",
       "CCD081  -1.127418    0.083082\n",
       "CCD082  -0.871474    1.072144\n",
       "CCD084   0.057869    0.108361\n",
       "CCD085  -0.139704    0.776080\n",
       "CCD088  -0.602107    1.044604\n",
       "CCD089  -0.625176   -0.541429\n",
       "CCD090  -0.562464    1.029190\n",
       "CCD091   0.473713   -0.140237\n",
       "CCD092   0.121900   -0.180591\n",
       "CCD094  -0.786280    0.746638\n",
       "CCD095   0.693659    0.086175\n",
       "CCD097   0.232927   -0.745190\n",
       "CCD099  -0.411325    0.593765"
      ]
     },
     "execution_count": 11,
     "metadata": {},
     "output_type": "execute_result"
    }
   ],
   "source": [
    "df"
   ]
  },
  {
   "cell_type": "code",
   "execution_count": 1,
   "metadata": {
    "collapsed": false
   },
   "outputs": [
    {
     "name": "stdout",
     "output_type": "stream",
     "text": [
      "/home/jmuraskin/Projects/CCD/CCD-scripts/analysis\r\n"
     ]
    }
   ],
   "source": [
    "! pwd"
   ]
  },
  {
   "cell_type": "code",
   "execution_count": null,
   "metadata": {
    "collapsed": true
   },
   "outputs": [],
   "source": []
  }
 ],
 "metadata": {
  "kernelspec": {
   "display_name": "Python 2",
   "language": "python",
   "name": "python2"
  },
  "language_info": {
   "codemirror_mode": {
    "name": "ipython",
    "version": 2
   },
   "file_extension": ".py",
   "mimetype": "text/x-python",
   "name": "python",
   "nbconvert_exporter": "python",
   "pygments_lexer": "ipython2",
   "version": "2.7.12"
  }
 },
 "nbformat": 4,
 "nbformat_minor": 1
}
