{
 "cells": [
  {
   "cell_type": "code",
   "execution_count": 16,
   "metadata": {
    "collapsed": false
   },
   "outputs": [
    {
     "name": "stdout",
     "output_type": "stream",
     "text": [
      "Populating the interactive namespace from numpy and matplotlib\n"
     ]
    }
   ],
   "source": [
    "import CCD_packages\n",
    "reload(CCD_packages)\n",
    "import os                                    # system functions\n",
    "import yaml\n",
    "import nipype.interfaces.io as nio           # Data i/o\n",
    "import nipype.interfaces.fsl as fsl          # fsl\n",
    "import nipype.pipeline.engine as pe          # pypeline engine\n",
    "import nipype.interfaces.utility as util\n",
    "\n",
    "%pylab inline"
   ]
  },
  {
   "cell_type": "code",
   "execution_count": 17,
   "metadata": {
    "collapsed": false
   },
   "outputs": [
    {
     "name": "stdout",
     "output_type": "stream",
     "text": [
      "No DR .txt file found or error for subject : CCD061\n",
      "No DR .txt file found or error for subject : CCD061\n",
      "['CCD012' 'CCD014' 'CCD015' 'CCD016' 'CCD017' 'CCD018' 'CCD019' 'CCD020'\n",
      " 'CCD021' 'CCD022' 'CCD023' 'CCD024' 'CCD025' 'CCD026' 'CCD027' 'CCD031'\n",
      " 'CCD040' 'CCD041' 'CCD059' 'CCD074' 'CCD085' 'CCD088' 'CCD090' 'CCD092'\n",
      " 'CCD099']\n"
     ]
    }
   ],
   "source": [
    "GroupDF,motionInfo=CCD_packages.getCCDSubjectData(saveMotionInfo=False)\n",
    "goodsubj,badsubj = CCD_packages.getSubjectList(GroupDF=GroupDF,motionThresh=1)\n",
    "\n",
    "print goodsubj"
   ]
  },
  {
   "cell_type": "code",
   "execution_count": 7,
   "metadata": {
    "collapsed": false
   },
   "outputs": [],
   "source": [
    "timeseries_directory='/home/jmuraskin/Projects/CCD/working_v1/OnsetTS'\n",
    "os.makedirs(timeseries_directory)"
   ]
  },
  {
   "cell_type": "code",
   "execution_count": null,
   "metadata": {
    "collapsed": false
   },
   "outputs": [
    {
     "name": "stdout",
     "output_type": "stream",
     "text": [
      "Running Subject CCD012\n",
      "Running noFeedback\n",
      "Running Feedback\n",
      "Running Subject CCD014\n",
      "Running noFeedback\n",
      "Running Feedback\n",
      "Running Subject CCD015\n",
      "Running noFeedback\n",
      "Running Feedback\n",
      "Running Subject CCD016\n",
      "Running noFeedback\n",
      "Running Feedback\n",
      "Running Subject CCD017\n",
      "Running noFeedback\n",
      "Running Feedback\n",
      "Running Subject CCD018\n",
      "Running noFeedback\n",
      "Running Feedback\n",
      "Running Subject CCD019\n",
      "Running noFeedback\n",
      "Running Feedback\n",
      "Running Subject CCD020\n",
      "Running noFeedback\n",
      "Running Feedback\n",
      "Running Subject CCD021\n",
      "Running noFeedback\n",
      "Running Feedback\n",
      "Running Subject CCD022\n",
      "Running noFeedback\n",
      "Running Feedback\n",
      "Running Subject CCD023\n",
      "Running noFeedback\n",
      "Running Feedback\n",
      "Running Subject CCD024\n",
      "Running noFeedback\n",
      "Running Feedback\n",
      "Running Subject CCD025\n",
      "Running noFeedback\n",
      "Running Feedback\n",
      "Running Subject CCD026\n",
      "Running noFeedback\n",
      "Running Feedback\n",
      "Running Subject CCD027\n",
      "Running noFeedback\n",
      "Running Feedback\n",
      "Running Subject CCD031\n",
      "Running noFeedback\n",
      "Running Feedback\n",
      "Running Subject CCD032\n",
      "Running noFeedback\n",
      "Running Feedback\n",
      "Running Subject CCD040\n",
      "Running noFeedback\n",
      "Running Feedback\n",
      "Running Subject CCD041\n",
      "Running noFeedback\n",
      "Running Feedback\n",
      "Running Subject CCD042\n",
      "Running noFeedback\n",
      "Running Feedback\n",
      "Running Subject CCD052\n",
      "Running noFeedback\n",
      "Running Feedback\n",
      "Running Subject CCD053\n",
      "Running noFeedback\n",
      "Running Feedback\n",
      "Running Subject CCD059\n",
      "Running noFeedback\n",
      "Running Feedback\n",
      "Running Subject CCD060\n",
      "Running noFeedback\n",
      "Running Feedback\n",
      "Running Subject CCD063\n",
      "Running noFeedback\n",
      "Running Feedback\n",
      "Running Subject CCD064\n",
      "Running noFeedback\n",
      "Running Feedback\n",
      "Running Subject CCD067\n",
      "Running noFeedback\n",
      "Running Feedback\n",
      "Running Subject CCD071\n",
      "Running noFeedback\n",
      "Running Feedback\n",
      "Running Subject CCD073\n",
      "Running noFeedback\n",
      "Running Feedback\n",
      "Running Subject CCD074\n",
      "Running noFeedback\n",
      "Running Feedback\n",
      "Running Subject CCD081\n",
      "Running noFeedback\n",
      "Running Feedback\n",
      "Running Subject CCD082\n",
      "Running noFeedback\n",
      "Running Feedback\n",
      "Running Subject CCD084\n",
      "Running noFeedback\n",
      "Running Feedback\n",
      "Running Subject CCD085\n",
      "Running noFeedback\n",
      "Running Feedback\n",
      "Running Subject CCD088\n",
      "Running noFeedback\n"
     ]
    }
   ],
   "source": [
    "fbNames=['noFeedback','Feedback']\n",
    "for subj in goodsubj:\n",
    "    print 'Running Subject %s' % subj\n",
    "    for fb in range(2):\n",
    "        print 'Running %s' % fbNames[fb]\n",
    "        scan=CCD_packages.fb_subjectinfo(subj,fb==1)+1\n",
    "        GLM=fsl.GLM()\n",
    "        GLM.inputs.in_file='/home/jmuraskin/Projects/CCD/CPAC-out/pipeline_CCD_v1/%s_data_/functional_mni_other_resolutions_smooth/_scan_feedback_%d/_csf_threshold_0.96/_gm_threshold_0.7/_wm_threshold_0.96/_apply_isoxfm_3.0/_compcor_ncomponents_5_selector_pc10.linear1.wm0.global0.motion1.quadratic1.gm0.compcor1.csf1/_fwhm_6/residual_antswarp_maths.nii.gz' % (subj,scan)\n",
    "        GLM.inputs.design='/home/jmuraskin/Projects/CCD/working_v1/groupAnalysis/randomise/%s/motionRMS-1.000000/onset_cope6_age_gender/cope6_tstat1.nii.gz' % (fbNames[fb])\n",
    "        GLM.inputs.des_norm=True\n",
    "        GLM.inputs.out_file='%s/%s_%s.txt' % (timeseries_directory,subj,fbNames[fb])\n",
    "        GLM.run()"
   ]
  },
  {
   "cell_type": "code",
   "execution_count": null,
   "metadata": {
    "collapsed": true
   },
   "outputs": [],
   "source": []
  }
 ],
 "metadata": {
  "kernelspec": {
   "display_name": "Python 2",
   "language": "python",
   "name": "python2"
  },
  "language_info": {
   "codemirror_mode": {
    "name": "ipython",
    "version": 2
   },
   "file_extension": ".py",
   "mimetype": "text/x-python",
   "name": "python",
   "nbconvert_exporter": "python",
   "pygments_lexer": "ipython2",
   "version": "2.7.12"
  }
 },
 "nbformat": 4,
 "nbformat_minor": 1
}
